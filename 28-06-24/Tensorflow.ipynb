{
  "cells": [
    {
      "cell_type": "code",
      "execution_count": null,
      "metadata": {
        "colab": {
          "base_uri": "https://localhost:8080/"
        },
        "id": "ou72Z7LpQi3I",
        "outputId": "6119a4eb-1e26-4a58-91ee-7bff17c35927"
      },
      "outputs": [
        {
          "name": "stdout",
          "output_type": "stream",
          "text": [
            "tf.Tensor(\n",
            "[[1. 1. 1.]\n",
            " [1. 1. 1.]\n",
            " [1. 1. 1.]], shape=(3, 3), dtype=float32)\n"
          ]
        }
      ],
      "source": [
        "#Question 1\n",
        "import tensorflow as tf\n",
        "\n",
        "# Create a 3x3 matrix of ones\n",
        "matrix1 = tf.ones(shape=(3, 3), dtype=tf.float32)\n",
        "\n",
        "# Create a 3x3 matrix of zeros\n",
        "matrix2 = tf.zeros(shape=(3, 3), dtype=tf.float32)\n",
        "\n",
        "# Add the matrices together\n",
        "result = tf.add(matrix1, matrix2)\n",
        "\n",
        "# Print the matrices and their sum\n",
        "print(\"Matrix of Ones:\")\n",
        "print(matrix1.numpy())\n",
        "print(\"\\nMatrix of Zeros:\")\n",
        "print(matrix2.numpy())\n",
        "print(\"\\nSum of matrices:\")\n",
        "print(result.numpy())\n"
      ]
    },
    {
      "cell_type": "code",
      "execution_count": null,
      "metadata": {
        "colab": {
          "base_uri": "https://localhost:8080/"
        },
        "id": "NSi70rD4RXVE",
        "outputId": "71f8a59e-ba7e-4a38-a735-2cd1a61265f3"
      },
      "outputs": [
        {
          "name": "stdout",
          "output_type": "stream",
          "text": [
            "Precision:  [0.6666667 0.        0.       ]\n",
            "Recall:  [1. 0. 0.]\n",
            "F1-Score:  [0.79999995 0.         0.        ]\n"
          ]
        }
      ],
      "source": [
        "#Question 4\n",
        "\n",
        "import tensorflow as tf\n",
        "\n",
        "def simple_multi_class_metrics(y_true, y_pred, num_classes):\n",
        "    # Convert predictions and true labels to one-hot encoding\n",
        "    y_pred_onehot = tf.one_hot(y_pred, depth=num_classes)\n",
        "    y_true_onehot = tf.one_hot(y_true, depth=num_classes)\n",
        "\n",
        "    # Calculate true positives, false positives, and false negatives\n",
        "    tp = tf.reduce_sum(y_true_onehot * y_pred_onehot, axis=0)\n",
        "    fp = tf.reduce_sum((1 - y_true_onehot) * y_pred_onehot, axis=0)\n",
        "    fn = tf.reduce_sum(y_true_onehot * (1 - y_pred_onehot), axis=0)\n",
        "\n",
        "    # Calculate precision, recall, and F1-score for each class\n",
        "    precision = tp / (tp + fp + tf.keras.backend.epsilon())\n",
        "    recall = tp / (tp + fn + tf.keras.backend.epsilon())\n",
        "    f1_score = 2 * precision * recall / (precision + recall + tf.keras.backend.epsilon())\n",
        "\n",
        "    # Return metrics as a dictionary\n",
        "    metrics = {\n",
        "        'Precision': precision.numpy(),\n",
        "        'Recall': recall.numpy(),\n",
        "        'F1-Score': f1_score.numpy()\n",
        "    }\n",
        "\n",
        "    return metrics\n",
        "\n",
        "# Example usage:\n",
        "y_true = tf.constant([0, 1, 2, 0, 1, 2])  # Example true labels\n",
        "y_pred = tf.constant([0, 2, 1, 0, 0, 1])  # Example predicted labels\n",
        "num_classes = 3  # Number of classes in the classification problem\n",
        "\n",
        "metrics = simple_multi_class_metrics(y_true, y_pred, num_classes)\n",
        "print(\"Precision: \", metrics['Precision'])\n",
        "print(\"Recall: \", metrics['Recall'])\n",
        "print(\"F1-Score: \", metrics['F1-Score'])\n",
        "\n",
        "\n"
      ]
    },
    {
      "cell_type": "code",
      "execution_count": null,
      "metadata": {
        "colab": {
          "base_uri": "https://localhost:8080/"
        },
        "id": "z_Uaz2KuSi-e",
        "outputId": "e302b0f3-e4c8-4264-a63d-6720266436bd"
      },
      "outputs": [
        {
          "name": "stdout",
          "output_type": "stream",
          "text": [
            "Model: \"sequential\"\n",
            "_________________________________________________________________\n",
            " Layer (type)                Output Shape              Param #   \n",
            "=================================================================\n",
            " dense (Dense)               (None, 10)                60        \n",
            "                                                                 \n",
            " custom_activation_layer (C  (None, 10)                0         \n",
            " ustomActivationLayer)                                           \n",
            "                                                                 \n",
            " dense_1 (Dense)             (None, 1)                 11        \n",
            "                                                                 \n",
            "=================================================================\n",
            "Total params: 71 (284.00 Byte)\n",
            "Trainable params: 71 (284.00 Byte)\n",
            "Non-trainable params: 0 (0.00 Byte)\n",
            "_________________________________________________________________\n",
            "Epoch 1/5\n",
            "4/4 [==============================] - 1s 5ms/step - loss: 0.5329\n",
            "Epoch 2/5\n",
            "4/4 [==============================] - 0s 3ms/step - loss: 0.4910\n",
            "Epoch 3/5\n",
            "4/4 [==============================] - 0s 3ms/step - loss: 0.4510\n",
            "Epoch 4/5\n",
            "4/4 [==============================] - 0s 4ms/step - loss: 0.4137\n",
            "Epoch 5/5\n",
            "4/4 [==============================] - 0s 3ms/step - loss: 0.3782\n"
          ]
        },
        {
          "data": {
            "text/plain": [
              "<keras.src.callbacks.History at 0x7ddaa9bc7160>"
            ]
          },
          "execution_count": 7,
          "metadata": {},
          "output_type": "execute_result"
        }
      ],
      "source": [
        "#Question 2\n",
        "\n",
        "import tensorflow as tf\n",
        "from tensorflow.keras.models import Sequential\n",
        "from tensorflow.keras.layers import Dense\n",
        "\n",
        "# Step 1: Define the custom activation function\n",
        "def custom_relu(x):\n",
        "    return tf.minimum(tf.maximum(0.0, x), 6.0)\n",
        "\n",
        "# Step 2: Create a custom layer that applies this activation function\n",
        "class CustomActivationLayer(tf.keras.layers.Layer):\n",
        "    def __init__(self, **kwargs):\n",
        "        super(CustomActivationLayer, self).__init__(**kwargs)\n",
        "\n",
        "    def call(self, inputs):\n",
        "        return custom_relu(inputs)\n",
        "\n",
        "# Step 3: Build a simple model using the custom layer\n",
        "model = Sequential([\n",
        "    Dense(10, input_shape=(5,)),  # Input layer\n",
        "    CustomActivationLayer(),      # Custom activation layer\n",
        "    Dense(1)                      # Output layer\n",
        "])\n",
        "\n",
        "# Compile the model\n",
        "model.compile(optimizer='adam', loss='mse')\n",
        "\n",
        "# Print the model summary\n",
        "model.summary()\n",
        "\n",
        "# Step 4: Generate some random data and train the model\n",
        "import numpy as np\n",
        "\n",
        "X_train = np.random.rand(100, 5)\n",
        "y_train = np.random.rand(100, 1)\n",
        "\n",
        "# Train the model\n",
        "model.fit(X_train, y_train, epochs=5)\n"
      ]
    },
    {
      "cell_type": "code",
      "execution_count": null,
      "metadata": {
        "colab": {
          "base_uri": "https://localhost:8080/"
        },
        "id": "YuSpywqCUEdA",
        "outputId": "ab596465-f75a-491b-9294-f1af5ae4e125"
      },
      "outputs": [
        {
          "name": "stdout",
          "output_type": "stream",
          "text": [
            "Number of devices: 1\n",
            "Downloading data from https://storage.googleapis.com/tensorflow/tf-keras-datasets/mnist.npz\n",
            "11490434/11490434 [==============================] - 0s 0us/step\n",
            "Epoch 1/5\n",
            "938/938 [==============================] - 62s 62ms/step - loss: 0.1534 - accuracy: 0.9538 - val_loss: 0.0471 - val_accuracy: 0.9853\n",
            "Epoch 2/5\n",
            "938/938 [==============================] - 61s 62ms/step - loss: 0.0468 - accuracy: 0.9860 - val_loss: 0.0382 - val_accuracy: 0.9884\n",
            "Epoch 3/5\n",
            "938/938 [==============================] - 53s 54ms/step - loss: 0.0332 - accuracy: 0.9900 - val_loss: 0.0375 - val_accuracy: 0.9880\n",
            "Epoch 4/5\n",
            "938/938 [==============================] - 62s 63ms/step - loss: 0.0249 - accuracy: 0.9921 - val_loss: 0.0352 - val_accuracy: 0.9888\n",
            "Epoch 5/5\n",
            "938/938 [==============================] - 55s 56ms/step - loss: 0.0180 - accuracy: 0.9942 - val_loss: 0.0293 - val_accuracy: 0.9901\n",
            "157/157 [==============================] - 3s 17ms/step - loss: 0.0293 - accuracy: 0.9901\n",
            "Test accuracy: 0.9901000261306763\n"
          ]
        }
      ],
      "source": [
        "#Question 3\n",
        "\n",
        "import tensorflow as tf\n",
        "\n",
        "# Step 1: Set up the distribution strategy\n",
        "strategy = tf.distribute.MirroredStrategy()\n",
        "\n",
        "print('Number of devices: {}'.format(strategy.num_replicas_in_sync))\n",
        "\n",
        "# Step 2: Prepare the dataset\n",
        "# Load and preprocess the MNIST dataset\n",
        "def preprocess(x, y):\n",
        "    x = tf.cast(x, tf.float32) / 255.0\n",
        "    y = tf.cast(y, tf.int64)\n",
        "    return x, y\n",
        "\n",
        "batch_size = 64\n",
        "\n",
        "(train_images, train_labels), (test_images, test_labels) = tf.keras.datasets.mnist.load_data()\n",
        "train_images = train_images[..., tf.newaxis]\n",
        "test_images = test_images[..., tf.newaxis]\n",
        "\n",
        "train_dataset = tf.data.Dataset.from_tensor_slices((train_images, train_labels))\n",
        "train_dataset = train_dataset.map(preprocess).shuffle(60000).batch(batch_size)\n",
        "\n",
        "test_dataset = tf.data.Dataset.from_tensor_slices((test_images, test_labels))\n",
        "test_dataset = test_dataset.map(preprocess).batch(batch_size)\n",
        "\n",
        "# Step 3: Create the model inside the strategy scope\n",
        "with strategy.scope():\n",
        "    model = tf.keras.Sequential([\n",
        "        tf.keras.layers.Conv2D(32, 3, activation='relu', input_shape=(28, 28, 1)),\n",
        "        tf.keras.layers.MaxPooling2D(),\n",
        "        tf.keras.layers.Conv2D(64, 3, activation='relu'),\n",
        "        tf.keras.layers.MaxPooling2D(),\n",
        "        tf.keras.layers.Flatten(),\n",
        "        tf.keras.layers.Dense(128, activation='relu'),\n",
        "        tf.keras.layers.Dense(10)\n",
        "    ])\n",
        "\n",
        "    # Step 4: Compile the model\n",
        "    model.compile(\n",
        "        optimizer=tf.keras.optimizers.Adam(),\n",
        "        loss=tf.keras.losses.SparseCategoricalCrossentropy(from_logits=True),\n",
        "        metrics=['accuracy']\n",
        "    )\n",
        "\n",
        "# Step 5: Train the model\n",
        "model.fit(train_dataset, epochs=5, validation_data=test_dataset)\n",
        "\n",
        "# Step 6: Evaluate the model\n",
        "test_loss, test_acc = model.evaluate(test_dataset)\n",
        "print(f'Test accuracy: {test_acc}')"
      ]
    }
  ],
  "metadata": {
    "colab": {
      "provenance": []
    },
    "kernelspec": {
      "display_name": "Python 3",
      "name": "python3"
    },
    "language_info": {
      "name": "python",
      "version": "3.12.3"
    }
  },
  "nbformat": 4,
  "nbformat_minor": 0
}
